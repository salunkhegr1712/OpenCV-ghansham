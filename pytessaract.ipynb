{
 "cells": [
  {
   "attachments": {},
   "cell_type": "markdown",
   "metadata": {},
   "source": [
    "### Importing libraries"
   ]
  },
  {
   "cell_type": "code",
   "execution_count": 11,
   "metadata": {},
   "outputs": [],
   "source": [
    "import pytesseract\n",
    "from PIL import Image"
   ]
  },
  {
   "attachments": {},
   "cell_type": "markdown",
   "metadata": {},
   "source": [
    "Lets see how ocr works and all"
   ]
  },
  {
   "cell_type": "code",
   "execution_count": 30,
   "metadata": {},
   "outputs": [],
   "source": [
    "img1=Image.open(\"outputs/BWtext.jpg\")\n"
   ]
  },
  {
   "attachments": {},
   "cell_type": "markdown",
   "metadata": {},
   "source": [
    "lets see can pytessaract work on non processed image"
   ]
  },
  {
   "cell_type": "code",
   "execution_count": 32,
   "metadata": {},
   "outputs": [
    {
     "name": "stdout",
     "output_type": "stream",
     "text": [
      "GABRIEL Meamall\n",
      "\n",
      "On Easter morning in the year 194, I took my six-year-old\n",
      "son by the hand and began walking fron my home town toward the\n",
      "valleys and forests of the Carpathian rountaing.. For nearly\n",
      "eight months we aeved in barns, attics and makeshift cabins. ‘With\n",
      "the OSES help of an unusually courageous man, we managed to\n",
      "survive Europe's greatest fit of madness. Those who walked in\n",
      "the opposite direction on that Easter day were less fortunate.\n",
      "They were taken in trainloads to places whose once obscure names\n",
      "are now, and forever will be, synonymous with terror, evil and\n",
      "death, What follows is our story of survival told to the best\n",
      "of my ability, in plain, simple language.\n",
      "\n",
      "In March of 194% the SS troops took over the internal affairs\n",
      "of Hungary and proceeded to organize the éeportation of the Jews.\n",
      "fo the Nazis this was a routine assignment; within hours all local\n",
      "officials were informed of operational plans. The high command\n",
      "issued a directive designed to placate Jewish fears and induce\n",
      "cooperation. It was announced that the Jews would be shipped to\n",
      "Poland as an emergency labor force and that they. were only being\n",
      "drafted for temporary work. There were many who believed this\n",
      "version. Others, less credulous, resigred themselves and hoped for\n",
      "the best. Still others began to make plans for escape. By Apris\n",
      "13 the Hungarian Jews were being rounded up from all over the ;\n",
      "country in what was once a huge prick factory. The rest is well\n",
      "known. ,\n",
      "\n",
      "I was working in Ungvar and usually came home on weekends.\n",
      "\n",
      "AL that time it was no longer possible for a Jew to travel freely.\n",
      "\n",
      "1\n",
      "\n",
      "\n"
     ]
    }
   ],
   "source": [
    "img1_result=pytesseract.image_to_string(img1)\n",
    "print(img1_result) # empty string"
   ]
  },
  {
   "attachments": {},
   "cell_type": "markdown",
   "metadata": {},
   "source": [
    "### lets try OCR for the indexes"
   ]
  },
  {
   "cell_type": "code",
   "execution_count": null,
   "metadata": {},
   "outputs": [],
   "source": []
  }
 ],
 "metadata": {
  "kernelspec": {
   "display_name": "Python 3",
   "language": "python",
   "name": "python3"
  },
  "language_info": {
   "codemirror_mode": {
    "name": "ipython",
    "version": 3
   },
   "file_extension": ".py",
   "mimetype": "text/x-python",
   "name": "python",
   "nbconvert_exporter": "python",
   "pygments_lexer": "ipython3",
   "version": "3.10.6"
  },
  "orig_nbformat": 4
 },
 "nbformat": 4,
 "nbformat_minor": 2
}
